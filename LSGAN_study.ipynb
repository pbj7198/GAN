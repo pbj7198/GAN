{
  "nbformat": 4,
  "nbformat_minor": 0,
  "metadata": {
    "colab": {
      "provenance": []
    },
    "kernelspec": {
      "name": "python3",
      "display_name": "Python 3"
    },
    "language_info": {
      "name": "python"
    }
  },
  "cells": [
    {
      "cell_type": "code",
      "execution_count": 4,
      "metadata": {
        "id": "vo7qTZeJLlE9"
      },
      "outputs": [],
      "source": [
        "import argparse\n",
        "import os\n",
        "import numpy as np\n",
        "import math\n",
        "import cv2\n",
        "import matplotlib.pyplot as plt\n",
        "import torchvision.transforms as transforms\n",
        "from torchvision.utils import save_image\n",
        "\n",
        "from torch.utils.data import DataLoader\n",
        "from torchvision import datasets\n",
        "from torch.autograd import Variable\n",
        "\n",
        "import torch.nn as nn\n",
        "import torch.nn.functional as F\n",
        "import torch\n",
        "\n",
        "os.makedirs('images', exist_ok = True)\n",
        "\n",
        "def weights_init_normal(m):\n",
        "    classname = m.__class__.__name__\n",
        "    if classname.find('Conv') != -1:\n",
        "        torch.nn.init.normal_(m.weight.data, 0.0, 0.02)\n",
        "    elif classname.find('BatchNorm') != -1:\n",
        "        torch.nn.init.normal_(m.weight.data, 1.0, 0.02)\n",
        "        torch.nn.init.constant_(m.bias.data, 0.0)"
      ]
    },
    {
      "cell_type": "code",
      "source": [
        "from torchsummary import summary\n",
        "\n",
        "# 테스트용 네트워크를 정의합니다.\n",
        "class SimpleNet(nn.Module):\n",
        "    def __init__(self):\n",
        "        super(SimpleNet, self).__init__()\n",
        "        self.conv = nn.Conv2d(3, 64, kernel_size=3, stride=1, padding=1)\n",
        "        self.bn = nn.BatchNorm2d(64)\n",
        "\n",
        "    def forward(self, x):\n",
        "        return self.bn(self.conv(x))\n",
        "\n",
        "# 모델 생성 및 가중치 초기화 전 출력\n",
        "model = SimpleNet()\n",
        "print(model.conv.weight.shape)\n",
        "print(\"Before initialization:\")\n",
        "print(\"Conv weights:\", model.conv.weight.data[0][0]) # 첫번째 채널의 첫번째 커널의 가중치를 출력\n",
        "print(\"BatchNorm weights:\", model.bn.weight.data)\n",
        "print(\"BatchNorm bias:\", model.bn.bias.data)\n",
        "\n",
        "# 가중치 초기화\n",
        "model.apply(weights_init_normal)\n",
        "\n",
        "print(\"\\nAfter initialization:\")\n",
        "print(\"Conv weights:\", model.conv.weight.data[0][0])\n",
        "print(\"BatchNorm weights:\", model.bn.weight.data)\n",
        "print(\"BatchNorm bias:\", model.bn.bias.data)\n"
      ],
      "metadata": {
        "colab": {
          "base_uri": "https://localhost:8080/"
        },
        "id": "k1jDr4tdLrXQ",
        "outputId": "00fa5f00-da6a-4f0e-910f-a5d51d159ff9"
      },
      "execution_count": 12,
      "outputs": [
        {
          "output_type": "stream",
          "name": "stdout",
          "text": [
            "torch.Size([64, 3, 3, 3])\n",
            "Before initialization:\n",
            "Conv weights: tensor([[-0.0375,  0.0700,  0.1738],\n",
            "        [-0.0042,  0.0473,  0.1647],\n",
            "        [-0.1405,  0.0296,  0.0409]])\n",
            "BatchNorm weights: tensor([1., 1., 1., 1., 1., 1., 1., 1., 1., 1., 1., 1., 1., 1., 1., 1., 1., 1.,\n",
            "        1., 1., 1., 1., 1., 1., 1., 1., 1., 1., 1., 1., 1., 1., 1., 1., 1., 1.,\n",
            "        1., 1., 1., 1., 1., 1., 1., 1., 1., 1., 1., 1., 1., 1., 1., 1., 1., 1.,\n",
            "        1., 1., 1., 1., 1., 1., 1., 1., 1., 1.])\n",
            "BatchNorm bias: tensor([0., 0., 0., 0., 0., 0., 0., 0., 0., 0., 0., 0., 0., 0., 0., 0., 0., 0., 0., 0., 0., 0., 0., 0.,\n",
            "        0., 0., 0., 0., 0., 0., 0., 0., 0., 0., 0., 0., 0., 0., 0., 0., 0., 0., 0., 0., 0., 0., 0., 0.,\n",
            "        0., 0., 0., 0., 0., 0., 0., 0., 0., 0., 0., 0., 0., 0., 0., 0.])\n",
            "\n",
            "After initialization:\n",
            "Conv weights: tensor([[ 0.0002,  0.0110, -0.0034],\n",
            "        [ 0.0140,  0.0021, -0.0510],\n",
            "        [ 0.0017, -0.0057,  0.0047]])\n",
            "BatchNorm weights: tensor([0.9868, 1.0218, 1.0130, 1.0078, 0.9898, 0.9880, 0.9852, 1.0080, 0.9658,\n",
            "        0.9830, 0.9669, 1.0170, 0.9850, 0.9841, 0.9656, 0.9993, 1.0114, 0.9791,\n",
            "        0.9951, 1.0121, 1.0129, 0.9520, 0.9868, 1.0230, 0.9912, 0.9994, 0.9839,\n",
            "        1.0079, 0.9845, 1.0094, 1.0269, 1.0081, 1.0212, 0.9711, 0.9754, 1.0156,\n",
            "        1.0250, 1.0283, 0.9594, 1.0148, 1.0164, 1.0184, 1.0082, 0.9947, 0.9959,\n",
            "        0.9717, 0.9979, 1.0090, 0.9476, 0.9907, 0.9592, 1.0089, 0.9891, 1.0148,\n",
            "        0.9962, 1.0283, 0.9779, 1.0172, 1.0353, 0.9718, 0.9990, 1.0040, 1.0220,\n",
            "        0.9738])\n",
            "BatchNorm bias: tensor([0., 0., 0., 0., 0., 0., 0., 0., 0., 0., 0., 0., 0., 0., 0., 0., 0., 0., 0., 0., 0., 0., 0., 0.,\n",
            "        0., 0., 0., 0., 0., 0., 0., 0., 0., 0., 0., 0., 0., 0., 0., 0., 0., 0., 0., 0., 0., 0., 0., 0.,\n",
            "        0., 0., 0., 0., 0., 0., 0., 0., 0., 0., 0., 0., 0., 0., 0., 0.])\n"
          ]
        }
      ]
    },
    {
      "cell_type": "code",
      "source": [
        "class Option():\n",
        "    n_epochs = 200\n",
        "    batch_size = 64\n",
        "    lr = 0.0002\n",
        "    b1 = 0.5\n",
        "    b2 = 0.999\n",
        "    n_cpu = 8\n",
        "    latent_dim = 100\n",
        "    img_size = 32\n",
        "    channels = 1\n",
        "    sample_interval = 500\n",
        "\n",
        "opt = Option()\n",
        "cuda = True if torch.cuda.is_available() else False"
      ],
      "metadata": {
        "id": "dWA10mx_Nq4k"
      },
      "execution_count": 14,
      "outputs": []
    },
    {
      "cell_type": "code",
      "source": [
        "import torch\n",
        "import torch.nn as nn\n",
        "\n",
        "# 1x1x2x2 크기의 입력 (Batch size=1, Channels=1, Height=2, Width=2)\n",
        "input_tensor = torch.tensor([[[[1, 2], [3, 4]]]], dtype=torch.float32)\n",
        "\n",
        "# nn.Upsample 레이어 생성\n",
        "upsample = nn.Upsample(scale_factor=2, mode='nearest')\n",
        "\n",
        "# 업샘플링 수행\n",
        "output_tensor = upsample(input_tensor)\n",
        "print(output_tensor.shape)"
      ],
      "metadata": {
        "colab": {
          "base_uri": "https://localhost:8080/"
        },
        "id": "aFto6zJhQvNo",
        "outputId": "fea300ba-d4f1-4090-ae36-b0a03ede828f"
      },
      "execution_count": 15,
      "outputs": [
        {
          "output_type": "stream",
          "name": "stdout",
          "text": [
            "torch.Size([1, 1, 4, 4])\n"
          ]
        }
      ]
    },
    {
      "cell_type": "code",
      "source": [
        "class Generator(nn.Module):\n",
        "    def __init__(self):\n",
        "        super(Generator, self).__init__()\n",
        "\n",
        "        # 64 // 4 = 16\n",
        "        self.init_size = opt.img_size // 4\n",
        "\n",
        "        # 100, 128 * 16 * 16\n",
        "        self.ll = nn.Sequential(nn.Linear(opt.latent_dim, 128 * self.init_size ** 2))\n",
        "\n",
        "        self.conv_blocks = nn.Sequential(\n",
        "            nn.Upsample(scale_factor = 2),\n",
        "            nn.Conv2d(128, 128, 3, stride = 1, padding = 1),\n",
        "            nn.BatchNorm2d(128, 0.8),\n",
        "            nn.LeakyReLU(0.2, inplace = True),\n",
        "            nn.Upsample(scale_factor = 2),\n",
        "            nn.Conv2d(128, 64, 3, stride = 1, padding = 1),\n",
        "            nn.BatchNorm2d(64, 0.8),\n",
        "            nn.LeakyReLU(0.2, inplace = True),\n",
        "            nn.Conv2d(64, opt.channels, 3, stride = 1, padding = 1),\n",
        "            nn.Tanh()\n",
        "        )\n",
        "\n",
        "    def forward(self, z):\n",
        "        #print(z.shape)\n",
        "        out = self.ll(z)\n",
        "        #print(out.shape)\n",
        "        out = out.view(out.shape[0], 128, self.init_size, self.init_size)\n",
        "        #print(out.shape)\n",
        "        img = self.conv_blocks(out)\n",
        "        #print(img.shape)\n",
        "        return img\n",
        "\n",
        "class Discriminator(nn.Module):\n",
        "    def __init__(self):\n",
        "        super(Discriminator, self).__init__()\n",
        "\n",
        "        def discriminator_block(in_filters, out_filters, bn = True):\n",
        "            block = [nn.Conv2d(in_filters, out_filters, 3, 2, 1), nn.LeakyReLU(0.2, inplace =True), nn.Dropout2d(0.25)]\n",
        "            if bn:\n",
        "                block.append(nn.BatchNorm2d(out_filters, 0.8))\n",
        "            return block\n",
        "\n",
        "        self.model = nn.Sequential(\n",
        "            # Discriminator나 Classifier의 첫 번째 층에 배치 정규화를 적용하지 않는 것이 좋은 결과를 가져올 수 있음이 관찰되었습니다.\n",
        "            *discriminator_block(opt.channels, 16, bn=False),\n",
        "            *discriminator_block(16, 32),\n",
        "            *discriminator_block(32, 64),\n",
        "            *discriminator_block(64, 128),\n",
        "        )\n",
        "\n",
        "        # stride가 2이기 때문에 conv2d를 한번 거칠 때마다 이미지 사이즈가 2배씩 작아질 것이다. 총 4번 conv2d를 통과하니 2^4가 된다.\n",
        "        ds_size = opt.img_size // 2 ** 4\n",
        "\n",
        "        # ds_size ** 2 = 가로 x 세로\n",
        "        self.adv_layer = nn.Linear(128 * ds_size ** 2, 1)\n",
        "\n",
        "    def forward(self, img):\n",
        "        out = self.model(img)\n",
        "        out = out.view(out.shape[0], -1)\n",
        "        validity = self.adv_layer(out)\n",
        "\n",
        "        return validity"
      ],
      "metadata": {
        "id": "TGOi-TD1PmUb"
      },
      "execution_count": 25,
      "outputs": []
    },
    {
      "cell_type": "code",
      "source": [
        "Tensor = torch.cuda.FloatTensor if cuda else torch.FloatTensor\n",
        "model = Generator()\n",
        "z = Variable(Tensor(np.random.normal(0, 1, (32, opt.latent_dim))))\n",
        "model(z)"
      ],
      "metadata": {
        "id": "8oysioTLRgLu"
      },
      "execution_count": null,
      "outputs": []
    },
    {
      "cell_type": "code",
      "source": [
        "adversarial_loss = torch.nn.MSELoss()\n",
        "\n",
        "generator = Generator()\n",
        "discriminator = Discriminator()\n",
        "\n",
        "if cuda:\n",
        "    generator.cuda()\n",
        "    discriminator.cuda()\n",
        "    adversarial_loss.cuda()\n",
        "\n",
        "generator.apply(weights_init_normal)\n",
        "discriminator.apply(weights_init_normal)\n",
        "\n",
        "os.makedirs(\"../../data/mnist\", exist_ok=True)\n",
        "dataloader = torch.utils.data.DataLoader(\n",
        "    datasets.MNIST(\n",
        "        \"../../data/mnist\",\n",
        "        train=True,\n",
        "        download=True,\n",
        "        transform=transforms.Compose(\n",
        "            [transforms.Resize(opt.img_size), transforms.ToTensor(), transforms.Normalize([0.5], [0.5])]\n",
        "        ),\n",
        "    ),\n",
        "    batch_size=opt.batch_size,\n",
        "    shuffle=True,\n",
        ")\n",
        "\n",
        "# Optimizers\n",
        "optimizer_G = torch.optim.Adam(generator.parameters(), lr=opt.lr, betas=(opt.b1, opt.b2))\n",
        "optimizer_D = torch.optim.Adam(discriminator.parameters(), lr=opt.lr, betas=(opt.b1, opt.b2))\n",
        "\n",
        "Tensor = torch.cuda.FloatTensor if cuda else torch.FloatTensor\n"
      ],
      "metadata": {
        "id": "OmwFtUVQVU3u"
      },
      "execution_count": 27,
      "outputs": []
    },
    {
      "cell_type": "code",
      "source": [
        "for epoch in range(opt.n_epochs):\n",
        "    for i, (imgs, _) in enumerate(dataloader):\n",
        "\n",
        "        valid = Tensor(imgs.shape[0], 1).fill_(1.0).detach()\n",
        "        fake = Tensor(imgs.shape[0], 1).fill_(0.0).detach()\n",
        "\n",
        "        # 64, 1, 32, 32\n",
        "        real_imgs = imgs.type(Tensor)\n",
        "\n",
        "        optimizer_G.zero_grad()\n",
        "\n",
        "        # 64, 100\n",
        "        z = Tensor(np.random.normal(0, 1, (imgs.shape[0], opt.latent_dim)))\n",
        "\n",
        "        # 64, 1, 32, 32\n",
        "        gen_imgs = generator(z)\n",
        "\n",
        "        g_loss = adversarial_loss(discriminator(gen_imgs), valid)\n",
        "\n",
        "        g_loss.backward()\n",
        "        optimizer_G.step()\n",
        "\n",
        "\n",
        "        optimizer_D.zero_grad()\n",
        "\n",
        "        real_loss = adversarial_loss(discriminator(real_imgs), valid)\n",
        "        fake_loss = adversarial_loss(discriminator(gen_imgs.detach()), fake)\n",
        "        d_loss = 0.5 * (real_loss + fake_loss)\n",
        "\n",
        "        d_loss.backward()\n",
        "        optimizer_D.step()\n",
        "\n",
        "        batches_done = epoch * len(dataloader) + i\n",
        "        if batches_done % opt.sample_interval == 0:\n",
        "            print(\n",
        "            \"[Epoch %d/%d] [Batch %d/%d] [D loss: %f] [G loss: %f]\"\n",
        "            % (epoch, opt.n_epochs, i, len(dataloader), d_loss.item(), g_loss.item())\n",
        "        )\n",
        "            save_image(gen_imgs.data[:25], \"images/%d.png\" % batches_done, nrow=5, normalize=True)\n",
        "\n",
        "            plt.figure(figsize = (5,5))\n",
        "            img1 = cv2.imread(\"images/%d.png\" %batches_done)\n",
        "            plt.imshow(img1, interpolation='nearest')\n",
        "            plt.axis('off')\n",
        "            plt.show()"
      ],
      "metadata": {
        "colab": {
          "base_uri": "https://localhost:8080/",
          "height": 823
        },
        "id": "k1xval5HYJkJ",
        "outputId": "e44aab1c-3f2c-450f-917d-ef377e98cf46"
      },
      "execution_count": 37,
      "outputs": [
        {
          "output_type": "stream",
          "name": "stdout",
          "text": [
            "[Epoch 0/200] [Batch 0/938] [D loss: 0.536344] [G loss: 1.071348]\n"
          ]
        },
        {
          "output_type": "display_data",
          "data": {
            "text/plain": [
              "<Figure size 500x500 with 1 Axes>"
            ],
            "image/png": "[encoded data removed]"
          },
          "metadata": {}
        },
        {
          "output_type": "error",
          "ename": "KeyboardInterrupt",
          "evalue": "ignored",
          "traceback": [
            "\u001b[0;31m---------------------------------------------------------------------------\u001b[0m",
            "\u001b[0;31mKeyboardInterrupt\u001b[0m                         Traceback (most recent call last)",
            "\u001b[0;32m<ipython-input-37-1b4f950b8a6c>\u001b[0m in \u001b[0;36m<cell line: 1>\u001b[0;34m()\u001b[0m\n\u001b[1;32m     18\u001b[0m         \u001b[0mg_loss\u001b[0m \u001b[0;34m=\u001b[0m \u001b[0madversarial_loss\u001b[0m\u001b[0;34m(\u001b[0m\u001b[0mdiscriminator\u001b[0m\u001b[0;34m(\u001b[0m\u001b[0mgen_imgs\u001b[0m\u001b[0;34m)\u001b[0m\u001b[0;34m,\u001b[0m \u001b[0mvalid\u001b[0m\u001b[0;34m)\u001b[0m\u001b[0;34m\u001b[0m\u001b[0;34m\u001b[0m\u001b[0m\n\u001b[1;32m     19\u001b[0m \u001b[0;34m\u001b[0m\u001b[0m\n\u001b[0;32m---> 20\u001b[0;31m         \u001b[0mg_loss\u001b[0m\u001b[0;34m.\u001b[0m\u001b[0mbackward\u001b[0m\u001b[0;34m(\u001b[0m\u001b[0;34m)\u001b[0m\u001b[0;34m\u001b[0m\u001b[0;34m\u001b[0m\u001b[0m\n\u001b[0m\u001b[1;32m     21\u001b[0m         \u001b[0moptimizer_G\u001b[0m\u001b[0;34m.\u001b[0m\u001b[0mstep\u001b[0m\u001b[0;34m(\u001b[0m\u001b[0;34m)\u001b[0m\u001b[0;34m\u001b[0m\u001b[0;34m\u001b[0m\u001b[0m\n\u001b[1;32m     22\u001b[0m \u001b[0;34m\u001b[0m\u001b[0m\n",
            "\u001b[0;32m/usr/local/lib/python3.10/dist-packages/torch/_tensor.py\u001b[0m in \u001b[0;36mbackward\u001b[0;34m(self, gradient, retain_graph, create_graph, inputs)\u001b[0m\n\u001b[1;32m    485\u001b[0m                 \u001b[0minputs\u001b[0m\u001b[0;34m=\u001b[0m\u001b[0minputs\u001b[0m\u001b[0;34m,\u001b[0m\u001b[0;34m\u001b[0m\u001b[0;34m\u001b[0m\u001b[0m\n\u001b[1;32m    486\u001b[0m             )\n\u001b[0;32m--> 487\u001b[0;31m         torch.autograd.backward(\n\u001b[0m\u001b[1;32m    488\u001b[0m             \u001b[0mself\u001b[0m\u001b[0;34m,\u001b[0m \u001b[0mgradient\u001b[0m\u001b[0;34m,\u001b[0m \u001b[0mretain_graph\u001b[0m\u001b[0;34m,\u001b[0m \u001b[0mcreate_graph\u001b[0m\u001b[0;34m,\u001b[0m \u001b[0minputs\u001b[0m\u001b[0;34m=\u001b[0m\u001b[0minputs\u001b[0m\u001b[0;34m\u001b[0m\u001b[0;34m\u001b[0m\u001b[0m\n\u001b[1;32m    489\u001b[0m         )\n",
            "\u001b[0;32m/usr/local/lib/python3.10/dist-packages/torch/autograd/__init__.py\u001b[0m in \u001b[0;36mbackward\u001b[0;34m(tensors, grad_tensors, retain_graph, create_graph, grad_variables, inputs)\u001b[0m\n\u001b[1;32m    198\u001b[0m     \u001b[0;31m# some Python versions print out the first line of a multi-line function\u001b[0m\u001b[0;34m\u001b[0m\u001b[0;34m\u001b[0m\u001b[0m\n\u001b[1;32m    199\u001b[0m     \u001b[0;31m# calls in the traceback and some print out the last line\u001b[0m\u001b[0;34m\u001b[0m\u001b[0;34m\u001b[0m\u001b[0m\n\u001b[0;32m--> 200\u001b[0;31m     Variable._execution_engine.run_backward(  # Calls into the C++ engine to run the backward pass\n\u001b[0m\u001b[1;32m    201\u001b[0m         \u001b[0mtensors\u001b[0m\u001b[0;34m,\u001b[0m \u001b[0mgrad_tensors_\u001b[0m\u001b[0;34m,\u001b[0m \u001b[0mretain_graph\u001b[0m\u001b[0;34m,\u001b[0m \u001b[0mcreate_graph\u001b[0m\u001b[0;34m,\u001b[0m \u001b[0minputs\u001b[0m\u001b[0;34m,\u001b[0m\u001b[0;34m\u001b[0m\u001b[0;34m\u001b[0m\u001b[0m\n\u001b[1;32m    202\u001b[0m         allow_unreachable=True, accumulate_grad=True)  # Calls into the C++ engine to run the backward pass\n",
            "\u001b[0;31mKeyboardInterrupt\u001b[0m: "
          ]
        }
      ]
    },
    {
      "cell_type": "code",
      "source": [],
      "metadata": {
        "id": "2T1_qGqHYwe5"
      },
      "execution_count": null,
      "outputs": []
    }
  ]
}